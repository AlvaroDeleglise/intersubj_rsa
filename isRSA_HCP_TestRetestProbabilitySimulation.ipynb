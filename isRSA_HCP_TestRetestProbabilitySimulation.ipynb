{
 "cells": [
  {
   "cell_type": "code",
   "execution_count": 1,
   "metadata": {},
   "outputs": [],
   "source": [
    "import numpy as np"
   ]
  },
  {
   "cell_type": "code",
   "execution_count": 2,
   "metadata": {},
   "outputs": [],
   "source": [
    "# Parameters\n",
    "n_nodes = 268\n",
    "\n",
    "# Set an intial p threshold\n",
    "p1=0.05 \n",
    "\n",
    "# Set a number of iterations\n",
    "n_iter = 1000000"
   ]
  },
  {
   "cell_type": "code",
   "execution_count": null,
   "metadata": {},
   "outputs": [],
   "source": [
    "false_positives = np.empty(n_iter)\n",
    " \n",
    "for iter in range(n_iter):\n",
    "    result1 = np.random.permutation(np.random.rand(n_nodes)<p1) # randomly create result for cohort 1\n",
    "    result2 = np.random.permutation(np.random.rand(n_nodes)<p1) # randomly create result for cohort 1\n",
    " \n",
    "    false_positives[iter] = (result1*result2).sum() # count how many nodes were significant in both cohorts\n",
    "    \n",
    "print(\"Mean # of nodes significant in both cohorts: {}\".format(np.mean(false_positives)))\n",
    "print(\"Median # of nodes significant in both cohorts: {}\".format(np.median(false_positives)))\n",
    "print(\"Max # of nodes significant in both cohorts: {}\".format(np.max(false_positives)))\n",
    "\n",
    "for signifnodes in range(1,11):\n",
    "    print(\"Probability of at least {} node(s) significant in both cohorts: {}\".format(\n",
    "        signifnodes, (false_positives>=signifnodes).sum()/n_iter))"
   ]
  },
  {
   "cell_type": "code",
   "execution_count": null,
   "metadata": {},
   "outputs": [],
   "source": []
  }
 ],
 "metadata": {
  "kernelspec": {
   "display_name": "Python 3",
   "language": "python",
   "name": "python3"
  },
  "language_info": {
   "codemirror_mode": {
    "name": "ipython",
    "version": 3
   },
   "file_extension": ".py",
   "mimetype": "text/x-python",
   "name": "python",
   "nbconvert_exporter": "python",
   "pygments_lexer": "ipython3",
   "version": "3.6.7"
  }
 },
 "nbformat": 4,
 "nbformat_minor": 4
}
