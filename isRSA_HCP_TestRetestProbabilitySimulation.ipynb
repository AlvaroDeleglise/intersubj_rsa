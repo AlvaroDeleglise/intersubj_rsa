{
 "cells": [
  {
   "cell_type": "code",
   "execution_count": 1,
   "metadata": {},
   "outputs": [],
   "source": [
    "import numpy as np"
   ]
  },
  {
   "cell_type": "markdown",
   "metadata": {},
   "source": [
    "Because the primary goal of the empirical analyses in this paper was to perform model comparison -- i.e., to see which distance model (AnnaK versus NN) leads to higher detection power in an is-RSA analysis -- and not necessarily to interpret individual nodes as definitely (or definitely not) related to behavior, in addition to the Bonferroni-style correction method also shown in the paper, we can take a familywise approach to multiple comparisons and frame the problem as: how likely are we to see X nodes across the whole brain survive a given p threshold in both cohorts? This notebook runs simulations to test that.\n",
    "\n",
    "\n",
    "Again, note that unlike the Bonferroni-style method, this approach is not designed to test whether any particular node is definitely significant or not significant, but rather to broadly compare model detection power at the whole-brain level."
   ]
  },
  {
   "cell_type": "code",
   "execution_count": 2,
   "metadata": {},
   "outputs": [],
   "source": [
    "# Parameters\n",
    "n_nodes = 268\n",
    "\n",
    "# Set an intial p threshold\n",
    "p1=0.05 \n",
    "\n",
    "# Set a number of iterations\n",
    "n_iter = 1000000"
   ]
  },
  {
   "cell_type": "code",
   "execution_count": 3,
   "metadata": {},
   "outputs": [
    {
     "name": "stdout",
     "output_type": "stream",
     "text": [
      "Mean # of nodes significant in both cohorts: 0.670526\n",
      "Median # of nodes significant in both cohorts: 0.0\n",
      "Max # of nodes significant in both cohorts: 7.0\n",
      "Probability of at least 1 node(s) significant in both cohorts: 0.48875\n",
      "Probability of at least 2 node(s) significant in both cohorts: 0.145498\n",
      "Probability of at least 3 node(s) significant in both cohorts: 0.030745\n",
      "Probability of at least 4 node(s) significant in both cohorts: 0.004875\n",
      "Probability of at least 5 node(s) significant in both cohorts: 0.000593\n",
      "Probability of at least 6 node(s) significant in both cohorts: 6.1e-05\n",
      "Probability of at least 7 node(s) significant in both cohorts: 4e-06\n",
      "Probability of at least 8 node(s) significant in both cohorts: 0.0\n",
      "Probability of at least 9 node(s) significant in both cohorts: 0.0\n",
      "Probability of at least 10 node(s) significant in both cohorts: 0.0\n"
     ]
    }
   ],
   "source": [
    "false_positives = np.empty(n_iter)\n",
    " \n",
    "for iter in range(n_iter):\n",
    "    result1 = np.random.permutation(np.random.rand(n_nodes)<p1) # randomly create result for cohort 1\n",
    "    result2 = np.random.permutation(np.random.rand(n_nodes)<p1) # randomly create result for cohort 1\n",
    " \n",
    "    false_positives[iter] = (result1*result2).sum() # count how many nodes were significant in both cohorts\n",
    "    \n",
    "print(\"Mean # of nodes significant in both cohorts: {}\".format(np.mean(false_positives)))\n",
    "print(\"Median # of nodes significant in both cohorts: {}\".format(np.median(false_positives)))\n",
    "print(\"Max # of nodes significant in both cohorts: {}\".format(np.max(false_positives)))\n",
    "\n",
    "for signifnodes in range(1,11):\n",
    "    print(\"Probability of at least {} node(s) significant in both cohorts: {}\".format(\n",
    "        signifnodes, (false_positives>=signifnodes).sum()/n_iter))"
   ]
  },
  {
   "cell_type": "code",
   "execution_count": null,
   "metadata": {},
   "outputs": [],
   "source": []
  }
 ],
 "metadata": {
  "kernelspec": {
   "display_name": "Python 3",
   "language": "python",
   "name": "python3"
  },
  "language_info": {
   "codemirror_mode": {
    "name": "ipython",
    "version": 3
   },
   "file_extension": ".py",
   "mimetype": "text/x-python",
   "name": "python",
   "nbconvert_exporter": "python",
   "pygments_lexer": "ipython3",
   "version": "3.6.7"
  }
 },
 "nbformat": 4,
 "nbformat_minor": 4
}
