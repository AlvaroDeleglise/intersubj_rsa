{
 "cells": [
  {
   "cell_type": "code",
   "execution_count": 1,
   "metadata": {},
   "outputs": [],
   "source": [
    "import numpy as np\n",
    "import time"
   ]
  },
  {
   "cell_type": "code",
   "execution_count": 3,
   "metadata": {},
   "outputs": [],
   "source": [
    "# Parameters\n",
    "n_nodes = 268\n",
    "\n",
    "# p<0.05 uncorrected\n",
    "p1=0.05 \n",
    "\n",
    "# p<0.05 Bonferroni corrected\n",
    "# p1 = np.sqrt(0.05/n_nodes) \n",
    "# print(\"p1={}\".format(p1))\n",
    " \n",
    "n_iter = 1000000"
   ]
  },
  {
   "cell_type": "code",
   "execution_count": 4,
   "metadata": {},
   "outputs": [
    {
     "name": "stdout",
     "output_type": "stream",
     "text": [
      "Slow version\n",
      "Mean # of nodes significant in both cohorts: 0.669198\n",
      "Median # of nodes significant in both cohorts: 0.0\n",
      "Max # of nodes significant in both cohorts: 7.0\n",
      "Probably of at least 1 node significant in both cohorts: 0.488365\n",
      "Probably of at least 2 node significant in both cohorts: 0.144808\n",
      "Probably of at least 3 node significant in both cohorts: 0.030275\n",
      "Probably of at least 4 node significant in both cohorts: 0.005022\n",
      "Probably of at least 5 node significant in both cohorts: 0.000648\n",
      "Probably of at least 6 node significant in both cohorts: 7.4e-05\n",
      "Probably of at least 7 node significant in both cohorts: 6e-06\n",
      "Probably of at least 8 node significant in both cohorts: 0.0\n",
      "Probably of at least 9 node significant in both cohorts: 0.0\n",
      "Probably of at least 10 node significant in both cohorts: 0.0\n",
      "Execute time: 128.71206188201904seconds\n"
     ]
    }
   ],
   "source": [
    "print(\"Slow version\")\n",
    "\n",
    "starttime = time.time()\n",
    "false_positives = np.empty(n_iter)\n",
    " \n",
    "for iter in range(n_iter):\n",
    "    result1 = np.random.permutation(np.random.rand(n_nodes)<p1) # randomly create result for cohort 1\n",
    "    result2 = np.random.permutation(np.random.rand(n_nodes)<p1) # randomly create result for cohort 1\n",
    " \n",
    "    false_positives[iter] = (result1*result2).sum() # count how many nodes were significant in both cohorts\n",
    "    \n",
    "print(\"Mean # of nodes significant in both cohorts: {}\".format(np.mean(false_positives)))\n",
    "print(\"Median # of nodes significant in both cohorts: {}\".format(np.median(false_positives)))\n",
    "print(\"Max # of nodes significant in both cohorts: {}\".format(np.max(false_positives)))\n",
    "for signifnodes in range(1,11):\n",
    "    print(\"Probability of at least {} node(s) significant in both cohorts: {}\".format(\n",
    "        signifnodes, (false_positives>=signifnodes).sum()/n_iter))\n",
    "\n",
    "print(\"Execute time: {}seconds\".format(time.time()-starttime))\n"
   ]
  },
  {
   "cell_type": "code",
   "execution_count": 4,
   "metadata": {},
   "outputs": [
    {
     "name": "stdout",
     "output_type": "stream",
     "text": [
      "For test retest, setting p1 to p1^2 and only randomizing once\n",
      "Mean # of nodes significant in both cohorts: 0.6698357\n",
      "Median # of nodes significant in both cohorts: 0.0\n",
      "Max # of nodes significant in both cohorts: 8.0\n",
      "Probably of at least 1 node significant in both cohorts: 0.4884633\n",
      "Probably of at least 2 node significant in both cohorts: 0.145372\n",
      "Probably of at least 3 node significant in both cohorts: 0.0304176\n",
      "Probably of at least 4 node significant in both cohorts: 0.0048756\n",
      "Probably of at least 5 node significant in both cohorts: 0.0006306\n",
      "Probably of at least 6 node significant in both cohorts: 6.84e-05\n",
      "Probably of at least 7 node significant in both cohorts: 7.6e-06\n",
      "Probably of at least 8 node significant in both cohorts: 6e-07\n",
      "Probably of at least 9 node significant in both cohorts: 0.0\n",
      "Probably of at least 10 node significant in both cohorts: 0.0\n",
      "Execute time: 152.57229590415955seconds\n"
     ]
    }
   ],
   "source": [
    "print(\"For test retest, setting p1 to p1^2 and only randomizing once\")\n",
    "\n",
    "starttime = time.time()\n",
    "false_positives = np.empty(n_iter)\n",
    " \n",
    "for iter in range(n_iter):\n",
    "    result1 = np.random.permutation(np.random.rand(n_nodes)<(p1**2)) # randomly create result\n",
    " \n",
    "    false_positives[iter] = (result1).sum() # count how many nodes were significant in both cohorts\n",
    "    \n",
    "print(\"Mean # of nodes significant in both cohorts: {}\".format(np.mean(false_positives)))\n",
    "print(\"Median # of nodes significant in both cohorts: {}\".format(np.median(false_positives)))\n",
    "print(\"Max # of nodes significant in both cohorts: {}\".format(np.max(false_positives)))\n",
    "for signifnodes in range(1,11):\n",
    "    print(\"Probability of at least {} node(s) significant in both cohorts: {}\".format(\n",
    "        signifnodes, (false_positives>=signifnodes).sum()/n_iter))\n",
    "\n",
    "print(\"Execute time: {}seconds\".format(time.time()-starttime))"
   ]
  },
  {
   "cell_type": "code",
   "execution_count": 5,
   "metadata": {},
   "outputs": [
    {
     "name": "stdout",
     "output_type": "stream",
     "text": [
      "For test retest, setting p1 to p1^2 and only randomizing once and running without a for loop\n",
      "Mean # of nodes significant in both cohorts: 0.6700504\n",
      "Median # of nodes significant in both cohorts: 0.0\n",
      "Max # of nodes significant in both cohorts: 8\n",
      "Probably of at least 1 node significant in both cohorts: 0.488891\n",
      "Probably of at least 2 node significant in both cohorts: 0.1451964\n",
      "Probably of at least 3 node significant in both cohorts: 0.0303647\n",
      "Probably of at least 4 node significant in both cohorts: 0.0048781\n",
      "Probably of at least 5 node significant in both cohorts: 0.0006427\n",
      "Probably of at least 6 node significant in both cohorts: 7.04e-05\n",
      "Probably of at least 7 node significant in both cohorts: 6.5e-06\n",
      "Probably of at least 8 node significant in both cohorts: 6e-07\n",
      "Probably of at least 9 node significant in both cohorts: 0.0\n",
      "Probably of at least 10 node significant in both cohorts: 0.0\n",
      "Execute time: 123.56277227401733seconds\n"
     ]
    }
   ],
   "source": [
    "print(\"For test retest, setting p1 to p1^2 and only randomizing once and running without a for loop\")\n",
    "\n",
    "starttime = time.time()\n",
    "false_positives = np.empty(n_iter)\n",
    "\n",
    "rand_tests = np.random.permutation(np.random.rand(n_iter, n_nodes)<(p1**2))\n",
    "false_positives = rand_tests.sum(axis=1)\n",
    "\n",
    "print(\"Mean # of nodes significant in both cohorts: {}\".format(np.mean(false_positives)))\n",
    "print(\"Median # of nodes significant in both cohorts: {}\".format(np.median(false_positives)))\n",
    "print(\"Max # of nodes significant in both cohorts: {}\".format(np.max(false_positives)))\n",
    "for signifnodes in range(1,11):\n",
    "    print(\"Probably of at least {} node significant in both cohorts: {}\".format(\n",
    "        signifnodes, (false_positives>=signifnodes).sum()/n_iter))\n",
    "\n",
    "print(\"Execute time: {}seconds\".format(time.time()-starttime))"
   ]
  },
  {
   "cell_type": "code",
   "execution_count": null,
   "metadata": {},
   "outputs": [],
   "source": []
  },
  {
   "cell_type": "code",
   "execution_count": null,
   "metadata": {},
   "outputs": [],
   "source": []
  },
  {
   "cell_type": "code",
   "execution_count": null,
   "metadata": {},
   "outputs": [],
   "source": []
  },
  {
   "cell_type": "code",
   "execution_count": null,
   "metadata": {},
   "outputs": [],
   "source": []
  }
 ],
 "metadata": {
  "kernelspec": {
   "display_name": "Python 3",
   "language": "python",
   "name": "python3"
  },
  "language_info": {
   "codemirror_mode": {
    "name": "ipython",
    "version": 3
   },
   "file_extension": ".py",
   "mimetype": "text/x-python",
   "name": "python",
   "nbconvert_exporter": "python",
   "pygments_lexer": "ipython3",
   "version": "3.6.7"
  }
 },
 "nbformat": 4,
 "nbformat_minor": 4
}
