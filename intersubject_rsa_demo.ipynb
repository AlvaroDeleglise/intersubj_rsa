{
 "cells": [
  {
   "cell_type": "code",
   "execution_count": 1,
   "metadata": {},
   "outputs": [
    {
     "name": "stderr",
     "output_type": "stream",
     "text": [
      "/Users/finnes/anaconda3/envs/hcp7t/lib/python3.6/importlib/_bootstrap.py:219: RuntimeWarning: numpy.ufunc size changed, may indicate binary incompatibility. Expected 192 from C header, got 216 from PyObject\n",
      "  return f(*args, **kwds)\n"
     ]
    }
   ],
   "source": [
    "%matplotlib inline\n",
    "import numpy as np\n",
    "import scipy as sp\n",
    "import matplotlib as mpl\n",
    "from matplotlib import colors\n",
    "import matplotlib.pyplot as plt\n",
    "import matplotlib.lines as mlines\n",
    "import matplotlib.transforms as mtransforms\n",
    "# mpl.rcParams['figure.dpi'] = 300\n",
    "import os\n",
    "import sys\n",
    "import pickle\n",
    "import json\n",
    "import pandas as pd\n",
    "import seaborn as sns\n",
    "import statsmodels.api as sm\n",
    "import nibabel as nib\n",
    "from nilearn import plotting,image"
   ]
  },
  {
   "cell_type": "code",
   "execution_count": 2,
   "metadata": {},
   "outputs": [],
   "source": [
    "import sys\n",
    "sys.path.append(\"/Users/finnes/Downloads/MantelTest-1.2.10/\")\n",
    "import Mantel\n",
    "\n",
    "# This function comes from here: https://github.com/jwcarr/MantelTest\n",
    "\n",
    "# And it **drastically** speeds up the permutation-test step for RSA"
   ]
  },
  {
   "cell_type": "markdown",
   "metadata": {},
   "source": [
    "## Set directory names"
   ]
  },
  {
   "cell_type": "code",
   "execution_count": 3,
   "metadata": {},
   "outputs": [
    {
     "name": "stdout",
     "output_type": "stream",
     "text": [
      "100610_MOVIE1_7T_AP_shen268_roi_ts.txt\n",
      "100610_MOVIE1_7T_AP_shen268_roi_ts_gsr.txt\n",
      "100610_MOVIE2_7T_PA_shen268_roi_ts.txt\n",
      "100610_MOVIE2_7T_PA_shen268_roi_ts_gsr.txt\n",
      "100610_MOVIE3_7T_PA_shen268_roi_ts.txt\n"
     ]
    }
   ],
   "source": [
    "top_dir = \"/Users/finnes/Documents/HCP_7T/\"\n",
    "data_dir = \"all_shen268_roi_ts/\"\n",
    "!ls $top_dir$data_dir | head -5"
   ]
  },
  {
   "cell_type": "markdown",
   "metadata": {},
   "source": [
    "## Read in behavioral data"
   ]
  },
  {
   "cell_type": "markdown",
   "metadata": {},
   "source": [
    "#### Read in unrestricted behavioral data:"
   ]
  },
  {
   "cell_type": "code",
   "execution_count": 4,
   "metadata": {},
   "outputs": [
    {
     "name": "stdout",
     "output_type": "stream",
     "text": [
      "(184, 382)\n"
     ]
    },
    {
     "data": {
      "text/html": [
       "<div>\n",
       "<style scoped>\n",
       "    .dataframe tbody tr th:only-of-type {\n",
       "        vertical-align: middle;\n",
       "    }\n",
       "\n",
       "    .dataframe tbody tr th {\n",
       "        vertical-align: top;\n",
       "    }\n",
       "\n",
       "    .dataframe thead th {\n",
       "        text-align: right;\n",
       "    }\n",
       "</style>\n",
       "<table border=\"1\" class=\"dataframe\">\n",
       "  <thead>\n",
       "    <tr style=\"text-align: right;\">\n",
       "      <th></th>\n",
       "      <th>Release</th>\n",
       "      <th>Acquisition</th>\n",
       "      <th>Gender</th>\n",
       "      <th>Age</th>\n",
       "      <th>3T_Full_MR_Compl</th>\n",
       "      <th>T1_Count</th>\n",
       "      <th>T2_Count</th>\n",
       "      <th>3T_RS-fMRI_Count</th>\n",
       "      <th>3T_RS-fMRI_PctCompl</th>\n",
       "      <th>3T_Full_Task_fMRI</th>\n",
       "      <th>...</th>\n",
       "      <th>Noise_Comp</th>\n",
       "      <th>Odor_Unadj</th>\n",
       "      <th>Odor_AgeAdj</th>\n",
       "      <th>PainIntens_RawScore</th>\n",
       "      <th>PainInterf_Tscore</th>\n",
       "      <th>Taste_Unadj</th>\n",
       "      <th>Taste_AgeAdj</th>\n",
       "      <th>Mars_Log_Score</th>\n",
       "      <th>Mars_Errs</th>\n",
       "      <th>Mars_Final</th>\n",
       "    </tr>\n",
       "    <tr>\n",
       "      <th>Subject</th>\n",
       "      <th></th>\n",
       "      <th></th>\n",
       "      <th></th>\n",
       "      <th></th>\n",
       "      <th></th>\n",
       "      <th></th>\n",
       "      <th></th>\n",
       "      <th></th>\n",
       "      <th></th>\n",
       "      <th></th>\n",
       "      <th></th>\n",
       "      <th></th>\n",
       "      <th></th>\n",
       "      <th></th>\n",
       "      <th></th>\n",
       "      <th></th>\n",
       "      <th></th>\n",
       "      <th></th>\n",
       "      <th></th>\n",
       "      <th></th>\n",
       "      <th></th>\n",
       "    </tr>\n",
       "  </thead>\n",
       "  <tbody>\n",
       "    <tr>\n",
       "      <th>100610</th>\n",
       "      <td>S900</td>\n",
       "      <td>Q08</td>\n",
       "      <td>M</td>\n",
       "      <td>26-30</td>\n",
       "      <td>True</td>\n",
       "      <td>2</td>\n",
       "      <td>1</td>\n",
       "      <td>4</td>\n",
       "      <td>100.0</td>\n",
       "      <td>True</td>\n",
       "      <td>...</td>\n",
       "      <td>2.0</td>\n",
       "      <td>122.25</td>\n",
       "      <td>110.45</td>\n",
       "      <td>0</td>\n",
       "      <td>38.6</td>\n",
       "      <td>84.84</td>\n",
       "      <td>85.31</td>\n",
       "      <td>1.92</td>\n",
       "      <td>1</td>\n",
       "      <td>1.88</td>\n",
       "    </tr>\n",
       "    <tr>\n",
       "      <th>102311</th>\n",
       "      <td>S500</td>\n",
       "      <td>Q06</td>\n",
       "      <td>F</td>\n",
       "      <td>26-30</td>\n",
       "      <td>True</td>\n",
       "      <td>1</td>\n",
       "      <td>1</td>\n",
       "      <td>4</td>\n",
       "      <td>100.0</td>\n",
       "      <td>True</td>\n",
       "      <td>...</td>\n",
       "      <td>4.4</td>\n",
       "      <td>122.25</td>\n",
       "      <td>110.45</td>\n",
       "      <td>1</td>\n",
       "      <td>52.2</td>\n",
       "      <td>98.31</td>\n",
       "      <td>99.06</td>\n",
       "      <td>1.80</td>\n",
       "      <td>0</td>\n",
       "      <td>1.80</td>\n",
       "    </tr>\n",
       "    <tr>\n",
       "      <th>102816</th>\n",
       "      <td>Q3</td>\n",
       "      <td>Q03</td>\n",
       "      <td>F</td>\n",
       "      <td>26-30</td>\n",
       "      <td>True</td>\n",
       "      <td>1</td>\n",
       "      <td>1</td>\n",
       "      <td>4</td>\n",
       "      <td>100.0</td>\n",
       "      <td>True</td>\n",
       "      <td>...</td>\n",
       "      <td>5.2</td>\n",
       "      <td>122.25</td>\n",
       "      <td>111.41</td>\n",
       "      <td>1</td>\n",
       "      <td>52.6</td>\n",
       "      <td>98.31</td>\n",
       "      <td>97.68</td>\n",
       "      <td>1.72</td>\n",
       "      <td>1</td>\n",
       "      <td>1.68</td>\n",
       "    </tr>\n",
       "    <tr>\n",
       "      <th>104416</th>\n",
       "      <td>S900</td>\n",
       "      <td>Q09</td>\n",
       "      <td>F</td>\n",
       "      <td>31-35</td>\n",
       "      <td>True</td>\n",
       "      <td>2</td>\n",
       "      <td>2</td>\n",
       "      <td>4</td>\n",
       "      <td>100.0</td>\n",
       "      <td>True</td>\n",
       "      <td>...</td>\n",
       "      <td>2.8</td>\n",
       "      <td>101.12</td>\n",
       "      <td>87.11</td>\n",
       "      <td>0</td>\n",
       "      <td>38.6</td>\n",
       "      <td>95.36</td>\n",
       "      <td>93.48</td>\n",
       "      <td>1.92</td>\n",
       "      <td>1</td>\n",
       "      <td>1.88</td>\n",
       "    </tr>\n",
       "    <tr>\n",
       "      <th>105923</th>\n",
       "      <td>MEG2</td>\n",
       "      <td>Q07</td>\n",
       "      <td>F</td>\n",
       "      <td>31-35</td>\n",
       "      <td>True</td>\n",
       "      <td>2</td>\n",
       "      <td>2</td>\n",
       "      <td>4</td>\n",
       "      <td>100.0</td>\n",
       "      <td>True</td>\n",
       "      <td>...</td>\n",
       "      <td>5.2</td>\n",
       "      <td>122.25</td>\n",
       "      <td>111.41</td>\n",
       "      <td>0</td>\n",
       "      <td>38.6</td>\n",
       "      <td>97.26</td>\n",
       "      <td>96.41</td>\n",
       "      <td>1.88</td>\n",
       "      <td>1</td>\n",
       "      <td>1.84</td>\n",
       "    </tr>\n",
       "  </tbody>\n",
       "</table>\n",
       "<p>5 rows × 382 columns</p>\n",
       "</div>"
      ],
      "text/plain": [
       "        Release Acquisition Gender    Age  3T_Full_MR_Compl  T1_Count  \\\n",
       "Subject                                                                 \n",
       "100610     S900         Q08      M  26-30              True         2   \n",
       "102311     S500         Q06      F  26-30              True         1   \n",
       "102816       Q3         Q03      F  26-30              True         1   \n",
       "104416     S900         Q09      F  31-35              True         2   \n",
       "105923     MEG2         Q07      F  31-35              True         2   \n",
       "\n",
       "         T2_Count  3T_RS-fMRI_Count  3T_RS-fMRI_PctCompl  3T_Full_Task_fMRI  \\\n",
       "Subject                                                                       \n",
       "100610          1                 4                100.0               True   \n",
       "102311          1                 4                100.0               True   \n",
       "102816          1                 4                100.0               True   \n",
       "104416          2                 4                100.0               True   \n",
       "105923          2                 4                100.0               True   \n",
       "\n",
       "         ...  Noise_Comp  Odor_Unadj  Odor_AgeAdj  PainIntens_RawScore  \\\n",
       "Subject  ...                                                             \n",
       "100610   ...         2.0      122.25       110.45                    0   \n",
       "102311   ...         4.4      122.25       110.45                    1   \n",
       "102816   ...         5.2      122.25       111.41                    1   \n",
       "104416   ...         2.8      101.12        87.11                    0   \n",
       "105923   ...         5.2      122.25       111.41                    0   \n",
       "\n",
       "         PainInterf_Tscore  Taste_Unadj  Taste_AgeAdj  Mars_Log_Score  \\\n",
       "Subject                                                                 \n",
       "100610                38.6        84.84         85.31            1.92   \n",
       "102311                52.2        98.31         99.06            1.80   \n",
       "102816                52.6        98.31         97.68            1.72   \n",
       "104416                38.6        95.36         93.48            1.92   \n",
       "105923                38.6        97.26         96.41            1.88   \n",
       "\n",
       "         Mars_Errs  Mars_Final  \n",
       "Subject                         \n",
       "100610           1        1.88  \n",
       "102311           0        1.80  \n",
       "102816           1        1.68  \n",
       "104416           1        1.88  \n",
       "105923           1        1.84  \n",
       "\n",
       "[5 rows x 382 columns]"
      ]
     },
     "execution_count": 4,
     "metadata": {},
     "output_type": "execute_result"
    }
   ],
   "source": [
    "unres_behav_data = pd.read_csv(top_dir+'unres_behav_data.csv', \n",
    "                         dtype={'Subject': 'str'})\n",
    "unres_behav_data.set_index(\"Subject\", inplace=True)\n",
    "print(unres_behav_data.shape)\n",
    "unres_behav_data.head()"
   ]
  },
  {
   "cell_type": "markdown",
   "metadata": {},
   "source": [
    "#### Read in restricted behavioral data (accessing csv file requires applying for access and signing a DUA through HCP):"
   ]
  },
  {
   "cell_type": "code",
   "execution_count": 5,
   "metadata": {},
   "outputs": [
    {
     "name": "stdout",
     "output_type": "stream",
     "text": [
      "(184, 200)\n"
     ]
    },
    {
     "data": {
      "text/html": [
       "<div>\n",
       "<style scoped>\n",
       "    .dataframe tbody tr th:only-of-type {\n",
       "        vertical-align: middle;\n",
       "    }\n",
       "\n",
       "    .dataframe tbody tr th {\n",
       "        vertical-align: top;\n",
       "    }\n",
       "\n",
       "    .dataframe thead th {\n",
       "        text-align: right;\n",
       "    }\n",
       "</style>\n",
       "<table border=\"1\" class=\"dataframe\">\n",
       "  <thead>\n",
       "    <tr style=\"text-align: right;\">\n",
       "      <th></th>\n",
       "      <th>Age_in_Yrs</th>\n",
       "      <th>HasGT</th>\n",
       "      <th>ZygositySR</th>\n",
       "      <th>ZygosityGT</th>\n",
       "      <th>Family_ID</th>\n",
       "      <th>Mother_ID</th>\n",
       "      <th>Father_ID</th>\n",
       "      <th>TestRetestInterval</th>\n",
       "      <th>Race</th>\n",
       "      <th>Ethnicity</th>\n",
       "      <th>...</th>\n",
       "      <th>SSAGA_Times_Used_Illicits</th>\n",
       "      <th>SSAGA_Times_Used_Cocaine</th>\n",
       "      <th>SSAGA_Times_Used_Hallucinogens</th>\n",
       "      <th>SSAGA_Times_Used_Opiates</th>\n",
       "      <th>SSAGA_Times_Used_Sedatives</th>\n",
       "      <th>SSAGA_Times_Used_Stimulants</th>\n",
       "      <th>SSAGA_Mj_Use</th>\n",
       "      <th>SSAGA_Mj_Ab_Dep</th>\n",
       "      <th>SSAGA_Mj_Age_1st_Use</th>\n",
       "      <th>SSAGA_Mj_Times_Used</th>\n",
       "    </tr>\n",
       "    <tr>\n",
       "      <th>Subject</th>\n",
       "      <th></th>\n",
       "      <th></th>\n",
       "      <th></th>\n",
       "      <th></th>\n",
       "      <th></th>\n",
       "      <th></th>\n",
       "      <th></th>\n",
       "      <th></th>\n",
       "      <th></th>\n",
       "      <th></th>\n",
       "      <th></th>\n",
       "      <th></th>\n",
       "      <th></th>\n",
       "      <th></th>\n",
       "      <th></th>\n",
       "      <th></th>\n",
       "      <th></th>\n",
       "      <th></th>\n",
       "      <th></th>\n",
       "      <th></th>\n",
       "      <th></th>\n",
       "    </tr>\n",
       "  </thead>\n",
       "  <tbody>\n",
       "    <tr>\n",
       "      <th>100610</th>\n",
       "      <td>27</td>\n",
       "      <td>True</td>\n",
       "      <td>NotMZ</td>\n",
       "      <td>DZ</td>\n",
       "      <td>52813_82634</td>\n",
       "      <td>52813</td>\n",
       "      <td>82634</td>\n",
       "      <td>NaN</td>\n",
       "      <td>White</td>\n",
       "      <td>Not Hispanic/Latino</td>\n",
       "      <td>...</td>\n",
       "      <td>0.0</td>\n",
       "      <td>0.0</td>\n",
       "      <td>0.0</td>\n",
       "      <td>0.0</td>\n",
       "      <td>0.0</td>\n",
       "      <td>0.0</td>\n",
       "      <td>0.0</td>\n",
       "      <td>0.0</td>\n",
       "      <td>NaN</td>\n",
       "      <td>0.0</td>\n",
       "    </tr>\n",
       "    <tr>\n",
       "      <th>102311</th>\n",
       "      <td>26</td>\n",
       "      <td>True</td>\n",
       "      <td>MZ</td>\n",
       "      <td>MZ</td>\n",
       "      <td>51679_81543</td>\n",
       "      <td>51679</td>\n",
       "      <td>81543</td>\n",
       "      <td>NaN</td>\n",
       "      <td>White</td>\n",
       "      <td>Not Hispanic/Latino</td>\n",
       "      <td>...</td>\n",
       "      <td>0.0</td>\n",
       "      <td>0.0</td>\n",
       "      <td>0.0</td>\n",
       "      <td>0.0</td>\n",
       "      <td>0.0</td>\n",
       "      <td>0.0</td>\n",
       "      <td>0.0</td>\n",
       "      <td>0.0</td>\n",
       "      <td>NaN</td>\n",
       "      <td>0.0</td>\n",
       "    </tr>\n",
       "    <tr>\n",
       "      <th>102816</th>\n",
       "      <td>30</td>\n",
       "      <td>True</td>\n",
       "      <td>MZ</td>\n",
       "      <td>MZ</td>\n",
       "      <td>51418_81283</td>\n",
       "      <td>51418</td>\n",
       "      <td>81283</td>\n",
       "      <td>NaN</td>\n",
       "      <td>Black or African Am.</td>\n",
       "      <td>Not Hispanic/Latino</td>\n",
       "      <td>...</td>\n",
       "      <td>2.0</td>\n",
       "      <td>0.0</td>\n",
       "      <td>0.0</td>\n",
       "      <td>0.0</td>\n",
       "      <td>0.0</td>\n",
       "      <td>0.0</td>\n",
       "      <td>1.0</td>\n",
       "      <td>0.0</td>\n",
       "      <td>2.0</td>\n",
       "      <td>3.0</td>\n",
       "    </tr>\n",
       "    <tr>\n",
       "      <th>104416</th>\n",
       "      <td>31</td>\n",
       "      <td>True</td>\n",
       "      <td>MZ</td>\n",
       "      <td>MZ</td>\n",
       "      <td>54643_84465</td>\n",
       "      <td>54643</td>\n",
       "      <td>84465</td>\n",
       "      <td>NaN</td>\n",
       "      <td>Asian/Nat. Hawaiian/Othr Pacific Is.</td>\n",
       "      <td>Not Hispanic/Latino</td>\n",
       "      <td>...</td>\n",
       "      <td>0.0</td>\n",
       "      <td>0.0</td>\n",
       "      <td>0.0</td>\n",
       "      <td>0.0</td>\n",
       "      <td>0.0</td>\n",
       "      <td>0.0</td>\n",
       "      <td>1.0</td>\n",
       "      <td>0.0</td>\n",
       "      <td>4.0</td>\n",
       "      <td>3.0</td>\n",
       "    </tr>\n",
       "    <tr>\n",
       "      <th>105923</th>\n",
       "      <td>33</td>\n",
       "      <td>True</td>\n",
       "      <td>MZ</td>\n",
       "      <td></td>\n",
       "      <td>52925_82747</td>\n",
       "      <td>52925</td>\n",
       "      <td>82747</td>\n",
       "      <td>158.0</td>\n",
       "      <td>White</td>\n",
       "      <td>Not Hispanic/Latino</td>\n",
       "      <td>...</td>\n",
       "      <td>0.0</td>\n",
       "      <td>0.0</td>\n",
       "      <td>0.0</td>\n",
       "      <td>0.0</td>\n",
       "      <td>0.0</td>\n",
       "      <td>0.0</td>\n",
       "      <td>1.0</td>\n",
       "      <td>0.0</td>\n",
       "      <td>4.0</td>\n",
       "      <td>1.0</td>\n",
       "    </tr>\n",
       "  </tbody>\n",
       "</table>\n",
       "<p>5 rows × 200 columns</p>\n",
       "</div>"
      ],
      "text/plain": [
       "         Age_in_Yrs  HasGT ZygositySR ZygosityGT    Family_ID  Mother_ID  \\\n",
       "Subject                                                                    \n",
       "100610           27   True      NotMZ         DZ  52813_82634      52813   \n",
       "102311           26   True         MZ         MZ  51679_81543      51679   \n",
       "102816           30   True         MZ         MZ  51418_81283      51418   \n",
       "104416           31   True         MZ         MZ  54643_84465      54643   \n",
       "105923           33   True         MZ             52925_82747      52925   \n",
       "\n",
       "         Father_ID  TestRetestInterval                                  Race  \\\n",
       "Subject                                                                        \n",
       "100610       82634                 NaN                                 White   \n",
       "102311       81543                 NaN                                 White   \n",
       "102816       81283                 NaN                  Black or African Am.   \n",
       "104416       84465                 NaN  Asian/Nat. Hawaiian/Othr Pacific Is.   \n",
       "105923       82747               158.0                                 White   \n",
       "\n",
       "                   Ethnicity  ...  SSAGA_Times_Used_Illicits  \\\n",
       "Subject                       ...                              \n",
       "100610   Not Hispanic/Latino  ...                        0.0   \n",
       "102311   Not Hispanic/Latino  ...                        0.0   \n",
       "102816   Not Hispanic/Latino  ...                        2.0   \n",
       "104416   Not Hispanic/Latino  ...                        0.0   \n",
       "105923   Not Hispanic/Latino  ...                        0.0   \n",
       "\n",
       "         SSAGA_Times_Used_Cocaine  SSAGA_Times_Used_Hallucinogens  \\\n",
       "Subject                                                             \n",
       "100610                        0.0                             0.0   \n",
       "102311                        0.0                             0.0   \n",
       "102816                        0.0                             0.0   \n",
       "104416                        0.0                             0.0   \n",
       "105923                        0.0                             0.0   \n",
       "\n",
       "         SSAGA_Times_Used_Opiates  SSAGA_Times_Used_Sedatives  \\\n",
       "Subject                                                         \n",
       "100610                        0.0                         0.0   \n",
       "102311                        0.0                         0.0   \n",
       "102816                        0.0                         0.0   \n",
       "104416                        0.0                         0.0   \n",
       "105923                        0.0                         0.0   \n",
       "\n",
       "         SSAGA_Times_Used_Stimulants  SSAGA_Mj_Use  SSAGA_Mj_Ab_Dep  \\\n",
       "Subject                                                               \n",
       "100610                           0.0           0.0              0.0   \n",
       "102311                           0.0           0.0              0.0   \n",
       "102816                           0.0           1.0              0.0   \n",
       "104416                           0.0           1.0              0.0   \n",
       "105923                           0.0           1.0              0.0   \n",
       "\n",
       "         SSAGA_Mj_Age_1st_Use  SSAGA_Mj_Times_Used  \n",
       "Subject                                             \n",
       "100610                    NaN                  0.0  \n",
       "102311                    NaN                  0.0  \n",
       "102816                    2.0                  3.0  \n",
       "104416                    4.0                  3.0  \n",
       "105923                    4.0                  1.0  \n",
       "\n",
       "[5 rows x 200 columns]"
      ]
     },
     "execution_count": 5,
     "metadata": {},
     "output_type": "execute_result"
    }
   ],
   "source": [
    "res_behav_data = pd.read_csv(top_dir+\"res_behav_data.csv\", dtype={'Subject':str})\n",
    "res_behav_data = res_behav_data.set_index(\"Subject\")\n",
    "print(res_behav_data.shape)\n",
    "res_behav_data.head()"
   ]
  },
  {
   "cell_type": "markdown",
   "metadata": {},
   "source": [
    "#### While we're at it, import the video timings lookup table:"
   ]
  },
  {
   "cell_type": "code",
   "execution_count": 6,
   "metadata": {},
   "outputs": [
    {
     "data": {
      "text/html": [
       "<div>\n",
       "<style scoped>\n",
       "    .dataframe tbody tr th:only-of-type {\n",
       "        vertical-align: middle;\n",
       "    }\n",
       "\n",
       "    .dataframe tbody tr th {\n",
       "        vertical-align: top;\n",
       "    }\n",
       "\n",
       "    .dataframe thead th {\n",
       "        text-align: right;\n",
       "    }\n",
       "</style>\n",
       "<table border=\"1\" class=\"dataframe\">\n",
       "  <thead>\n",
       "    <tr style=\"text-align: right;\">\n",
       "      <th></th>\n",
       "      <th>clipno_overall</th>\n",
       "      <th>run</th>\n",
       "      <th>clipno_in_run</th>\n",
       "      <th>clip_name</th>\n",
       "      <th>start_tr</th>\n",
       "      <th>stop_tr</th>\n",
       "    </tr>\n",
       "  </thead>\n",
       "  <tbody>\n",
       "    <tr>\n",
       "      <th>0</th>\n",
       "      <td>1</td>\n",
       "      <td>MOVIE1_7T_AP</td>\n",
       "      <td>1</td>\n",
       "      <td>twomen</td>\n",
       "      <td>20</td>\n",
       "      <td>265</td>\n",
       "    </tr>\n",
       "    <tr>\n",
       "      <th>1</th>\n",
       "      <td>2</td>\n",
       "      <td>MOVIE1_7T_AP</td>\n",
       "      <td>2</td>\n",
       "      <td>bridgeville</td>\n",
       "      <td>285</td>\n",
       "      <td>506</td>\n",
       "    </tr>\n",
       "    <tr>\n",
       "      <th>2</th>\n",
       "      <td>3</td>\n",
       "      <td>MOVIE1_7T_AP</td>\n",
       "      <td>3</td>\n",
       "      <td>pockets</td>\n",
       "      <td>526</td>\n",
       "      <td>714</td>\n",
       "    </tr>\n",
       "    <tr>\n",
       "      <th>3</th>\n",
       "      <td>4</td>\n",
       "      <td>MOVIE1_7T_AP</td>\n",
       "      <td>4</td>\n",
       "      <td>overcome</td>\n",
       "      <td>735</td>\n",
       "      <td>798</td>\n",
       "    </tr>\n",
       "    <tr>\n",
       "      <th>4</th>\n",
       "      <td>5</td>\n",
       "      <td>MOVIE1_7T_AP</td>\n",
       "      <td>5</td>\n",
       "      <td>testretest1</td>\n",
       "      <td>818</td>\n",
       "      <td>901</td>\n",
       "    </tr>\n",
       "  </tbody>\n",
       "</table>\n",
       "</div>"
      ],
      "text/plain": [
       "   clipno_overall           run  clipno_in_run    clip_name  start_tr  stop_tr\n",
       "0               1  MOVIE1_7T_AP              1       twomen        20      265\n",
       "1               2  MOVIE1_7T_AP              2  bridgeville       285      506\n",
       "2               3  MOVIE1_7T_AP              3      pockets       526      714\n",
       "3               4  MOVIE1_7T_AP              4     overcome       735      798\n",
       "4               5  MOVIE1_7T_AP              5  testretest1       818      901"
      ]
     },
     "execution_count": 6,
     "metadata": {},
     "output_type": "execute_result"
    }
   ],
   "source": [
    "video_tr_lookup = pd.read_csv(\"/Users/finnes/Documents/HCP_7T/videoclip_tr_lookup.csv\")\n",
    "video_tr_lookup.head()"
   ]
  },
  {
   "cell_type": "markdown",
   "metadata": {},
   "source": [
    "#### Join unrestricted + restricted behavioral data into single dataframe:"
   ]
  },
  {
   "cell_type": "code",
   "execution_count": 7,
   "metadata": {},
   "outputs": [
    {
     "name": "stdout",
     "output_type": "stream",
     "text": [
      "(184, 582)\n"
     ]
    }
   ],
   "source": [
    "behav_data = unres_behav_data.join(res_behav_data, how='outer')\n",
    "print(behav_data.shape)"
   ]
  },
  {
   "cell_type": "markdown",
   "metadata": {},
   "source": [
    "## Use mother IDs to create list of families; divide subjects into two cohorts (\"sets\") such that each set contains only one sibling from each family "
   ]
  },
  {
   "cell_type": "markdown",
   "metadata": {},
   "source": [
    "This is done to avoid computing ISC between siblings, since we would expect relatedness to affect both brain and behavioral similarity."
   ]
  },
  {
   "cell_type": "code",
   "execution_count": 8,
   "metadata": {},
   "outputs": [
    {
     "name": "stdout",
     "output_type": "stream",
     "text": [
      "There are 93 unique families in the dataset\n",
      "There are 93 unrelated subjects in set 1\n",
      "There are 89 unrelated subjects in set 2\n"
     ]
    }
   ],
   "source": [
    "siblings_list = []\n",
    "\n",
    "for mother in behav_data[\"Mother_ID\"].unique():\n",
    "    siblings_list.append(behav_data.query(\"Mother_ID==@mother\").index.values)\n",
    "    \n",
    "siblings_list = np.array(siblings_list)\n",
    "\n",
    "print(\"There are {} unique families in the dataset\".format(len(siblings_list)))\n",
    "\n",
    "subj_set1 = [family[0] for family in siblings_list]\n",
    "subj_set2 = [family[1] for family in siblings_list if len(family)>1]\n",
    "\n",
    "# Make sure subjects are sorted\n",
    "subj_set1.sort()\n",
    "subj_set2.sort()\n",
    "\n",
    "print(\"There are {} unrelated subjects in set 1\".format(len(subj_set1)))\n",
    "print(\"There are {} unrelated subjects in set 2\".format(len(subj_set2)))"
   ]
  },
  {
   "cell_type": "code",
   "execution_count": 9,
   "metadata": {},
   "outputs": [
    {
     "name": "stdout",
     "output_type": "stream",
     "text": [
      "184\n"
     ]
    }
   ],
   "source": [
    "full_subj_list = behav_data.index.values\n",
    "print(len(full_subj_list))"
   ]
  },
  {
   "cell_type": "markdown",
   "metadata": {},
   "source": [
    "## Define a whole bunch of functions"
   ]
  },
  {
   "cell_type": "code",
   "execution_count": 10,
   "metadata": {},
   "outputs": [],
   "source": [
    "def get_subjects(data_dir, f_name, full_subj_list):\n",
    "    \n",
    "    \"\"\"\n",
    "    Takes an original list of subjects and \n",
    "    returns a list of subjects for whom the file \"f_name\" exists \n",
    "    (to avoid missing-data issues later)\n",
    "    \"\"\"\n",
    "    \n",
    "    good_subj_list = []\n",
    "    \n",
    "    for subj in full_subj_list:\n",
    "        f_path = data_dir + subj + f_name\n",
    "        if os.path.exists(f_path) and os.path.getsize(f_path) > 0:\n",
    "            good_subj_list.append(subj)\n",
    "    \n",
    "    return good_subj_list"
   ]
  },
  {
   "cell_type": "code",
   "execution_count": 11,
   "metadata": {},
   "outputs": [
    {
     "data": {
      "text/plain": [
       "184"
      ]
     },
     "execution_count": 11,
     "metadata": {},
     "output_type": "execute_result"
    }
   ],
   "source": [
    "f_name = \"_MOVIE1_7T_AP_shen268_roi_ts.txt\"\n",
    "\n",
    "good_subj_list = get_subjects(data_dir=data_dir, f_name=f_name, full_subj_list=full_subj_list)\n",
    "len(good_subj_list)"
   ]
  },
  {
   "cell_type": "code",
   "execution_count": 12,
   "metadata": {},
   "outputs": [],
   "source": [
    "def make_3d_data_mtx(data_dir, f_name, subj_list):\n",
    "    \n",
    "    \"\"\"\n",
    "    Reads in nodewise timeseries .txt files from list of subjects and stacks them\n",
    "    to creates data matrix that is nodes x TRs x subjects\n",
    "    \"\"\"\n",
    "    \n",
    "    # Read in first subject to initialize D:\n",
    "    subj = subj_list[0]\n",
    "    f_path = data_dir + subj + f_name\n",
    "    D = pd.read_csv(f_path, sep='\\t', header=None).dropna(axis=1).T\n",
    "    \n",
    "    # Then read in the rest of the subjects and stack:\n",
    "    for s, subj in enumerate(subj_list[1:]):\n",
    "        f_path = data_dir + subj + f_name\n",
    "        tmp = pd.read_csv(f_path, sep='\\t', header=None).dropna(axis=1).T\n",
    "        D = np.dstack((D, tmp))\n",
    "    \n",
    "    return D\n",
    "\n",
    "def make_nodewise_isc_mtx(D, tr_range=None):\n",
    "    \n",
    "    \"\"\"\n",
    "    Takes data matrix that is nodes x TRs x subjects, and optional tr_range tuple containing a start_tr and stop_tr\n",
    "    \"\"\"\n",
    "    \n",
    "    # If a TR range was given, restrict data matrix to just those timepoints\n",
    "    if tr_range:\n",
    "        D = D[:, tr_range[0]:tr_range[1], :]\n",
    "    \n",
    "    # Get dims\n",
    "    n_nodes, n_trs, n_subs = D.shape\n",
    "    \n",
    "    # Initalize result\n",
    "    out = np.zeros((n_subs, n_subs, n_nodes))\n",
    "    \n",
    "    for n in range(n_nodes):\n",
    "        out[:,:,n] = np.corrcoef(D[n,:,:].T)\n",
    "        \n",
    "    return out\n",
    "\n",
    "def get_clipwise_trs(clip_name, lookup_table = video_tr_lookup):\n",
    "    \n",
    "    \"\"\"\n",
    "    Returns start_tr and stop_tr for a named clip by consulting video_tr_lookup table\n",
    "    \"\"\"\n",
    "\n",
    "    start_tr = lookup_table.loc[lookup_table[\"clip_name\"]==clip_name,\"start_tr\"].item()\n",
    "    stop_tr = lookup_table.loc[lookup_table[\"clip_name\"]==clip_name,\"stop_tr\"].item() + 5\n",
    "    return (start_tr, stop_tr)"
   ]
  },
  {
   "cell_type": "markdown",
   "metadata": {},
   "source": [
    "#### Test out those functions by creating nodewise ISC matrices for the first run of movie data in each cohort separately:"
   ]
  },
  {
   "cell_type": "code",
   "execution_count": 13,
   "metadata": {},
   "outputs": [],
   "source": [
    "data_dir = \"/Users/finnes/Documents/HCP_7T/all_shen268_roi_ts/\"\n",
    "f_name = \"_MOVIE1_7T_AP_shen268_roi_ts.txt\"\n",
    "\n",
    "good_subs1 = get_subjects(data_dir=data_dir, f_name=f_name, full_subj_list=subj_set1)\n",
    "D1 = make_3d_data_mtx(data_dir=data_dir, f_name=f_name, subj_list=good_subs1)\n",
    "ISC1 = make_nodewise_isc_mtx(D1)\n",
    "\n",
    "good_subs2 = get_subjects(data_dir=data_dir, f_name=f_name, full_subj_list=subj_set2)\n",
    "D2 = make_3d_data_mtx(data_dir=data_dir, f_name=f_name, subj_list=good_subs2)\n",
    "ISC2 = make_nodewise_isc_mtx(D2)"
   ]
  },
  {
   "cell_type": "code",
   "execution_count": 14,
   "metadata": {},
   "outputs": [
    {
     "name": "stdout",
     "output_type": "stream",
     "text": [
      "(268, 921, 93)\n",
      "(268, 921, 89)\n"
     ]
    }
   ],
   "source": [
    "print(D1.shape)\n",
    "print(D2.shape)"
   ]
  },
  {
   "cell_type": "code",
   "execution_count": 15,
   "metadata": {},
   "outputs": [
    {
     "name": "stdout",
     "output_type": "stream",
     "text": [
      "(93, 93, 268)\n",
      "(89, 89, 268)\n"
     ]
    }
   ],
   "source": [
    "print(ISC1.shape)\n",
    "print(ISC2.shape)"
   ]
  },
  {
   "cell_type": "markdown",
   "metadata": {},
   "source": [
    "#### Let's look at one node's ISC matrix to see if it looks reasonable:"
   ]
  },
  {
   "cell_type": "code",
   "execution_count": 16,
   "metadata": {},
   "outputs": [
    {
     "data": {
      "text/plain": [
       "<matplotlib.axes._subplots.AxesSubplot at 0x1c1e4b6ef0>"
      ]
     },
     "execution_count": 16,
     "metadata": {},
     "output_type": "execute_result"
    },
    {
     "data": {
      "image/png": "[encoded data removed]",
      "text/plain": [
       "<Figure size 432x288 with 2 Axes>"
      ]
     },
     "metadata": {
      "needs_background": "light"
     },
     "output_type": "display_data"
    }
   ],
   "source": [
    "node = 10\n",
    "\n",
    "sns.heatmap(ISC1[:,:,node])"
   ]
  },
  {
   "cell_type": "markdown",
   "metadata": {},
   "source": [
    "#### Yep, looks good!"
   ]
  },
  {
   "cell_type": "markdown",
   "metadata": {},
   "source": [
    "# Inter-subject RSA: Theory & simulations"
   ]
  },
  {
   "cell_type": "markdown",
   "metadata": {},
   "source": [
    "- “Model-free” analyses that exploit the time-locked nature of a stimulus across subjects—e.g., inter-subject correlation (ISC) and related approaches—are a powerful way to analyze naturalistic neuroimaging data\n",
    "- These approaches reveal spatiotemporal patterns of brain activity that are common across subjects\n",
    "- However, brain activity during naturalistic stimuli also shows interesting individual differences"
   ]
  },
  {
   "cell_type": "markdown",
   "metadata": {},
   "source": [
    "### Q: Can we develop & extend inter-subject approaches to study what is **different** across subjects, rather than what is common?"
   ]
  },
  {
   "cell_type": "markdown",
   "metadata": {},
   "source": [
    "One problem is that ISC by definition operates at the level of subject pairs, while traits and behaviors operate at the level of single subjects. So, how can we relate ISC (one measure per subject pair) to behavior (one measure per subject)?\n",
    "\n",
    "A. Representational similarity analysis!\n",
    "\n",
    "If we take our subjects-by-subjects ISC matrix to be a \"brain similarity\" matrix, we can construct a \"behavioral similarity\" matrix and use RSA to find brain regions where subjects who are more similar in their behavior are also more similar in their neural response.\n",
    "\n",
    "Sounds straightforward on its face, but when we talk about \"similarity\" between a given subject pair, not all similarity measures are created equal. Let's do some simuluations and visualizations to illustrate this."
   ]
  },
  {
   "cell_type": "code",
   "execution_count": 17,
   "metadata": {},
   "outputs": [],
   "source": [
    "# First, choose number of subjects and simulate behavior chosen from random distribution\n",
    "n_subs = 30\n",
    "behav = np.random.randn(n_subs)\n",
    "behav_rank = sp.stats.rankdata(behav)-1\n",
    "\n",
    "cmap = plt.cm.get_cmap('RdYlBu_r')\n",
    "cmap.set_bad('#C0C0C0')"
   ]
  },
  {
   "cell_type": "markdown",
   "metadata": {},
   "source": [
    "In a typical RSA analysis, we would use something like Euclidean distance (or its inverse, so we can talk about similarity rather than distance). However, this makes a big assumption, namely that if two subjects score close to one another on the scale -- irrespective of whether they score high or low -- we expect them to look more similar to one another than two subjects whose scores are far apart. In other words, this would be a \"nearest neighbor\" scenario, where all that matters is your relative distance from your partner, and not where you score in an absolute sense.\n",
    "\n",
    "If we visualize the sorted subjects x subjects ISC matrix, it would look like this (warmer colors indicate greater similarity):"
   ]
  },
  {
   "cell_type": "code",
   "execution_count": 18,
   "metadata": {},
   "outputs": [
    {
     "data": {
      "image/png": "[encoded data removed]",
      "text/plain": [
       "<Figure size 432x288 with 1 Axes>"
      ]
     },
     "metadata": {},
     "output_type": "display_data"
    }
   ],
   "source": [
    "def sort_square_mtx(mtx, behav_vct):\n",
    "    \n",
    "    inds = behav_vct.argsort()\n",
    "    mtx_sort = mtx\n",
    "    mtx_sort = mtx_sort[inds, :]\n",
    "    mtx_sort = mtx_sort[:, inds]\n",
    "    \n",
    "    return mtx_sort\n",
    "\n",
    "isc_mtx = np.zeros((n_subs, n_subs))\n",
    "noise_factor = 1\n",
    "\n",
    "for i in range(n_subs):\n",
    "    for j in range(n_subs):\n",
    "        isc_mtx[i,j] = 1-abs(behav_rank[i]-behav_rank[j])+np.random.randn()*noise_factor\n",
    "        \n",
    "np.fill_diagonal(isc_mtx, np.nan)\n",
    "  \n",
    "fig, ax = plt.subplots()\n",
    "ax = sns.heatmap(sort_square_mtx(isc_mtx, behav), cmap=cmap, square=True, cbar=False, xticklabels=False, yticklabels=False)\n",
    "ax.set_title(\"Nearest neighbor\\n(model: 1 - Euclidean distance(i,j))\")\n",
    "plt.show()"
   ]
  },
  {
   "cell_type": "markdown",
   "metadata": {},
   "source": [
    "But what if that's not the case? What if the absolute position on the scale *does* matter, such that subjects that are high scoring look more similar to other high scorers, but less similar to low scorers? I call this the \"Anna Karenina\" scenario, since the most succinct way to describe is that \"all high scorers are alike, all low scorers are low-scoring in their own way\" (mirroring the famous opening quote from that novel, which reads \"All happy families are alike; all unhappy families are unhappy in their own way\"). \n",
    "\n",
    "Now if we visualize the matrix, it would look like this:"
   ]
  },
  {
   "cell_type": "code",
   "execution_count": 19,
   "metadata": {},
   "outputs": [
    {
     "data": {
      "image/png": "[encoded data removed]",
      "text/plain": [
       "<Figure size 432x288 with 1 Axes>"
      ]
     },
     "metadata": {},
     "output_type": "display_data"
    }
   ],
   "source": [
    "ak_high_mtx = np.zeros((n_subs, n_subs))\n",
    "noise_factor = 0.05\n",
    "\n",
    "for i in range(n_subs):\n",
    "    for j in range(n_subs):\n",
    "        ak_high_mtx[i,j] = min(behav_rank[i], behav_rank[j])+np.random.randn()*noise_factor*max(behav_rank[i], behav_rank[j])\n",
    "        \n",
    "np.fill_diagonal(ak_high_mtx, np.nan)\n",
    "  \n",
    "fig, ax = plt.subplots()\n",
    "ax = sns.heatmap(sort_square_mtx(ak_high_mtx, behav), cmap=cmap, square=True, cbar=False, xticklabels=False, yticklabels=False)\n",
    "ax.set_title(\"AnnaK: high\\n(model: min(i,j)\")\n",
    "plt.show()"
   ]
  },
  {
   "cell_type": "markdown",
   "metadata": {},
   "source": [
    "Of course, it would also be possible to have the reverse scenario, i.e., all *low* scorers are alike, whereas all *high* scorers are less similar to both one another and to low scorers. \n",
    "\n",
    "Or it could be a smoother-looking matrix, where high-low pairs show intermediate similarity to either low-low pairs or high-high pairs:"
   ]
  },
  {
   "cell_type": "code",
   "execution_count": 20,
   "metadata": {},
   "outputs": [
    {
     "data": {
      "image/png": "[encoded data removed]",
      "text/plain": [
       "<Figure size 432x288 with 1 Axes>"
      ]
     },
     "metadata": {},
     "output_type": "display_data"
    }
   ],
   "source": [
    "grad_high_mtx = np.zeros((n_subs, n_subs))\n",
    "noise_factor = 1\n",
    "\n",
    "for i in range(n_subs):\n",
    "    for j in range(n_subs):\n",
    "        grad_high_mtx[i,j] = (behav_rank[i] + behav_rank[j]) +np.random.randn()*noise_factor\n",
    "        \n",
    "np.fill_diagonal(grad_high_mtx, np.nan)\n",
    "  \n",
    "fig, ax = plt.subplots()\n",
    "ax = sns.heatmap(sort_square_mtx(grad_high_mtx, behav), cmap=cmap, square=True, cbar=False, xticklabels=False, yticklabels=False)\n",
    "ax.set_title(\"Gradient: high\\nmodel: i + j\")\n",
    "plt.show()"
   ]
  },
  {
   "cell_type": "markdown",
   "metadata": {},
   "source": [
    "# Inter-subject RSA: Application to real data"
   ]
  },
  {
   "cell_type": "markdown",
   "metadata": {},
   "source": [
    "First, let's define some functions that will allow us to compute inter-subject behavioral similarity matrices using the various structures illustrated above."
   ]
  },
  {
   "cell_type": "code",
   "execution_count": 21,
   "metadata": {},
   "outputs": [],
   "source": [
    "def get_eucdist_pairwise_behav_vct(behav_vct):\n",
    "    \n",
    "    \"\"\"\n",
    "    Takes a vector of behavioral scores and returns the vectorized upper triangle \n",
    "    of a Euclidean distance matrix (i.e., \"nearest neighors\" similarity structure)\n",
    "    \"\"\"\n",
    "    \n",
    "    if len(behav_vct.shape)==1: # if it's 1d, reshape it to 2d\n",
    "        behav_vct = behav_vct.reshape(-1,1)\n",
    "    \n",
    "    return np.divide(1,(1+sp.spatial.distance.pdist(behav_vct)))"
   ]
  },
  {
   "cell_type": "code",
   "execution_count": 22,
   "metadata": {},
   "outputs": [],
   "source": [
    "def get_annak_pairwise_behav_vct(behav_vct, lower=False):\n",
    "    \n",
    "    \"\"\"\n",
    "    Takes a vector of behavioral scores (one per subject) and returns \n",
    "    the vectorized upper triangle of a similarity matrix constructed using the \"Anna Karenina\" principle\n",
    "    (i.e., all high scorers are alike, all low scorers are low-scoring in their own way).\n",
    "    \n",
    "    If lower=True, the structure is reversed (i.e., all low scorers are alike, all high-scorers are different)\n",
    "    \"\"\"\n",
    "    \n",
    "    # Get dims\n",
    "    n_subs = len(behav_vct)\n",
    "    \n",
    "    # Initialize output\n",
    "    annak_mtx = np.zeros((n_subs,n_subs))\n",
    "\n",
    "    # Fill in matrix\n",
    "    for i in range(n_subs):\n",
    "        for j in range(n_subs):\n",
    "            if ~lower:\n",
    "                annak_mtx[i,j] = min(behav_vct[i], behav_vct[j])\n",
    "            if lower:\n",
    "                # annak_mtx[i,j] = np.divide(1, (1+max(behav_vct[i], behav_vct[j])))\n",
    "                # annak_mtx[i,j] = 1 / (1+max(behav_vct[i], behav_vct[j]))\n",
    "                # annak_mtx[i,j] = 1 / max(behav_vct[i], behav_vct[j])\n",
    "                annak_mtx[i,j] = 1 - max(behav_vct[i], behav_vct[j])\n",
    "    \n",
    "    # Return just the upper triangle\n",
    "    annak_vct = annak_mtx[np.triu_indices(annak_mtx.shape[0], k=1)]\n",
    "    return annak_vct"
   ]
  },
  {
   "cell_type": "code",
   "execution_count": 23,
   "metadata": {},
   "outputs": [],
   "source": [
    "def get_gradient_pairwise_behav_vct(behav_vct):\n",
    "    \n",
    "    \"\"\"\n",
    "    Takes a vector of behavioral scores (one per subject) and returns \n",
    "    the vectorized upper triangle of a similarity matrix constructed using the \"gradient\" principle\n",
    "    (i.e., high-high pairs are most alike, low-low pairs are most dissimilar, and high-low pairs show intermediate similarity).\n",
    "    \n",
    "    \"\"\"\n",
    "    \n",
    "    # Get dims\n",
    "    n_subs = len(behav_vct)\n",
    "    \n",
    "    # Initialize output\n",
    "    gradient_mtx = np.zeros((n_subs,n_subs))\n",
    "\n",
    "    # Fill in matrix\n",
    "    for i in range(n_subs):\n",
    "        for j in range(n_subs):\n",
    "            gradient_mtx[i,j] = behav_vct[i] + behav_vct[j]\n",
    "    \n",
    "    # Return just the upper triangle\n",
    "    gradient_vct = gradient_mtx[np.triu_indices(gradient_mtx.shape[0], k=1)]\n",
    "    return gradient_vct"
   ]
  },
  {
   "cell_type": "markdown",
   "metadata": {},
   "source": [
    "One final case we haven't touched on yet is when you have a vector of behavior for each individual subject (e.g., responses to individual items on a questionnaire) and you want to compute Euclidean distance between the itemwise answers, rather than the summary score (this is a variant on the nearest-neighbors model):"
   ]
  },
  {
   "cell_type": "code",
   "execution_count": 34,
   "metadata": {},
   "outputs": [],
   "source": [
    "def get_behav_from_regex(behav_data, behav_regex, likert_map=None):\n",
    "    \n",
    "    \"\"\"\n",
    "    Gets selected items (via regex) from a behavioral dataframe. For doing Euclidean distance \n",
    "    in cases where you have a vector of responses for each subject (rather than a single scalar)\n",
    "    \n",
    "    If answers are non-numerical (e.g., Strongly Agree/Agree/etc from a likert scale), \n",
    "    you can optionally pass a likert_map to map these to numerical values\n",
    "    \n",
    "    Output can be fed directly into get_eucdist_pairwise_behav_vct\n",
    "    \"\"\"\n",
    "    \n",
    "    behav_vct = behav_data.filter(regex=behav_regex)\n",
    "    \n",
    "    if likert_map:\n",
    "        behav_vct = behav_vct.replace(likert_map)\n",
    "    \n",
    "    return behav_vct"
   ]
  },
  {
   "cell_type": "markdown",
   "metadata": {},
   "source": [
    "#### Next, let's define a function that actually does the inter-subject RSA:"
   ]
  },
  {
   "cell_type": "code",
   "execution_count": 35,
   "metadata": {},
   "outputs": [],
   "source": [
    "def do_rsa(nodewise_isc_data, pairwise_behav_vct, n_perms=1000, method='spearman'):\n",
    "    \n",
    "    \"\"\"\n",
    "    This function computes RSA between brain similarity matrices (ISC) and a behavioral similarity matrix.\n",
    "    \n",
    "    Per the output of Mantel.test, the output is a N x 3, where N is the number of nodes, \n",
    "    and each row contains the RSA r-value, p-value (based on Mantel permutation test) and z-score, respectively\n",
    "    \"\"\"\n",
    "    \n",
    "    # Get dims\n",
    "    n_nodes = nodewise_isc_data.shape[2]\n",
    "    \n",
    "    # Initialize output\n",
    "    result = []\n",
    "\n",
    "    # Enter node loop\n",
    "    for nn in range(n_nodes):\n",
    "        isc_vct = nodewise_isc_data[:,:,nn][np.triu_indices(nodewise_isc_data.shape[0], k=1)]\n",
    "        tmp = Mantel.test(isc_vct, pairwise_behav_vct, perms=n_perms, method=method)\n",
    "        result.append(tmp)\n",
    "            \n",
    "    return result"
   ]
  },
  {
   "cell_type": "markdown",
   "metadata": {},
   "source": [
    "This is an exploratory analysis, and we expect that effects will subtle, so Bonferroni correction across 268 nodes is probably too strict. That said, we want to make every effort to ensure that we are visualizing and interpreting effects that are replicable.\n",
    "\n",
    "Therefore, for every model we run, our pipeline will be as follows:\n",
    "    - compute intersubject-RSA separately in each cohort\n",
    "    - plot RSA values across the two cohorts to see how replicable effects are  \n",
    "    - only visualize/interpret nodes that meet statistical significance in both cohorts\n",
    "    \n",
    "The following functions implement that workflow."
   ]
  },
  {
   "cell_type": "code",
   "execution_count": 36,
   "metadata": {},
   "outputs": [],
   "source": [
    "def set_aspect_ratio(ax):\n",
    "    \n",
    "    \"\"\"\n",
    "    helper function to make square axes with equal x and y ranges\n",
    "    \"\"\"\n",
    "    \n",
    "    xmin, xmax = ax.get_xlim()\n",
    "    ymin, ymax = ax.get_ylim()\n",
    "    both_min = np.min([xmin, ymin])\n",
    "    both_max = np.max([xmax, ymax])\n",
    "    ax.set_xlim((both_min, both_max))\n",
    "    ax.set_ylim((both_min, both_max))\n",
    "    x0,x1 = ax.get_xlim()\n",
    "    y0,y1 = ax.get_ylim()\n",
    "    ax.set_aspect(abs(x1-x0)/abs(y1-y0))"
   ]
  },
  {
   "cell_type": "code",
   "execution_count": 37,
   "metadata": {},
   "outputs": [],
   "source": [
    "def plot_set1_vs_set2(result1, result2, tuple_index=0, ax=None, opacity=1, color=\"gray\", p_alpha = 0.05, sig_color=None):\n",
    "    \n",
    "    # If no pre-existing axis was specified, make a new fig/ax\n",
    "    ax = ax or plt.gca()\n",
    "    \n",
    "    # Set up axis with identity line\n",
    "    line = mlines.Line2D([0, 1], [0, 1], color='gray', linestyle='--')\n",
    "    transform = ax.transAxes\n",
    "    line.set_transform(transform)\n",
    "    ax.add_line(line)\n",
    "    # sns.set_style(\"white\")\n",
    "    \n",
    "    if sig_color:\n",
    "        colors = []\n",
    "        sizes = []\n",
    "        \n",
    "        surv1 = np.array([x[1] for x in result1]) < p_alpha # does it survive in result 1?\n",
    "        surv2 = np.array([x[1] for x in result2]) < p_alpha # does it survive in result 2?\n",
    "        signs = [np.sign(result1[x][0])==np.sign(result2[x][0]) for x in range(len(result1))] # are the signs the same?\n",
    "        surv_bool = np.logical_and.reduce((surv1, surv2, signs)) # combine all three above\n",
    "\n",
    "        for node in range(len(result1)):\n",
    "            if surv_bool[node]:\n",
    "                colors.append(sig_color)\n",
    "                sizes.append(40)\n",
    "            else:\n",
    "                colors.append(color)\n",
    "                sizes.append(4)\n",
    "    else:\n",
    "        colors = color\n",
    "        sizes = 4\n",
    "    \n",
    "    # Make scatter plot\n",
    "    ax.scatter([x[tuple_index] for x in result1], [x[tuple_index] for x in result2], s=sizes, color=colors, alpha=opacity)\n",
    "    ax.set_xlabel(\"subj_set1 RSA r-value\")\n",
    "    ax.set_ylabel(\"subj_set2 RSA r-value\")\n",
    "    # ax.set_title(title)\n",
    "    ax.axhline(y=0, color=\"gray\")\n",
    "    ax.axvline(x=0, color=\"gray\")\n",
    "\n",
    "    # Make aspect ratio/scaling equal\n",
    "    set_aspect_ratio(ax)\n",
    "    \n",
    "    # Make ticks the same\n",
    "    ax.set_xticks(ax.get_yticks())\n",
    "    ax.set_xticklabels(ax.get_yticklabels())\n",
    "\n",
    "    # Annotate with r-value\n",
    "    r = sp.stats.pearsonr([x[tuple_index] for x in result1], [x[tuple_index] for x in result2])[0]\n",
    "    ax.annotate(f\"r = {r:.2f}\", xy=(0.1,0.9), xycoords=\"axes fraction\", fontsize=14)\n",
    "    \n",
    "    return ax"
   ]
  },
  {
   "cell_type": "code",
   "execution_count": 38,
   "metadata": {},
   "outputs": [],
   "source": [
    "def get_intersection(result1, result2, alpha=0.05):\n",
    "    \n",
    "    \"\"\"\n",
    "    This function assumes you are passing a \"results\" tuple with r-values in the first column \n",
    "    and p-values in the second column (e.g., output of do_rsa). It returns nodes that pass the statistical threshold in both cohorts.\n",
    "    \"\"\"\n",
    "    \n",
    "    surv1 = np.array([x[1] for x in result1]) < alpha # does it survive in result 1?\n",
    "    surv2 = np.array([x[1] for x in result2]) < alpha # does it survive in result 2?\n",
    "    signs = [np.sign(result1[x][0])==np.sign(result2[x][0]) for x in range(len(result1))] # are the signs the same?\n",
    "    \n",
    "    surv_bool = np.logical_and.reduce((surv1, surv2, signs))\n",
    "    surv_nodes = np.where(surv_bool)[0]\n",
    "    \n",
    "    return surv_bool"
   ]
  },
  {
   "cell_type": "code",
   "execution_count": 39,
   "metadata": {},
   "outputs": [],
   "source": [
    "def color_rois(values):\n",
    "    \n",
    "    \"\"\"\n",
    "    This function assumes you are passing a vector \"values\" with the same length as the number of nodes in the atlas.\n",
    "    \"\"\"\n",
    "    \n",
    "    shen268 = nib.load(top_dir+\"shen_2mm_268_parcellation.nii.gz\")\n",
    "    shen268_data = shen268.get_data()\n",
    "    img = np.zeros(shen268_data.shape)\n",
    "\n",
    "    for roi in range(len(values)):\n",
    "        itemindex = np.where(shen268_data==roi+1) # find voxels in this node (add 1 to account for zero-indexing)\n",
    "        img[itemindex] = values[roi] # color them by the desired value \n",
    "\n",
    "    affine = shen268.affine\n",
    "    img_nii = nib.Nifti1Image(img, affine)\n",
    "    \n",
    "    return img_nii"
   ]
  },
  {
   "cell_type": "markdown",
   "metadata": {},
   "source": [
    "#### Ok, let's put it all together:"
   ]
  },
  {
   "cell_type": "code",
   "execution_count": 40,
   "metadata": {},
   "outputs": [],
   "source": [
    "def compare_models(behav_name, clip_name, models, GSR=0, n_perms=1000, alpha=0.05, color_names=None):\n",
    "    \n",
    "    \"\"\"\n",
    "    This function does it all! (kinda)\n",
    "    \"\"\"\n",
    "    \n",
    "    # Generate custom colormap\n",
    "    legend_handles = models + [\"Both {} and {}\".format(models[0], models[1])]\n",
    "    color_dict = {}\n",
    "    \n",
    "    if color_names is None:\n",
    "        color_names = [\"tab:blue\", \"tab:red\", \"tab:purple\"]\n",
    "    color_dict = dict(zip(legend_handles, color_names))\n",
    "\n",
    "    # cmap = colors.ListedColormap(color_dict.values())\n",
    "    cmap = mpl.colors.ListedColormap([color_dict.values()])\n",
    "    bounds = [1,2,3,4]\n",
    "    norm = mpl.colors.BoundaryNorm(bounds, cmap.N, clip=True)\n",
    "\n",
    "    # Figure out which run this clip is in\n",
    "    if \"MOVIE\" in clip_name: #...unless it's just MOVIE1, MOVIE2, MOVIE3 or MOVIE4, in which case use the whole run\n",
    "        run_name = clip_name\n",
    "        tr_range = None\n",
    "    else:\n",
    "        run_name = video_tr_lookup.query('clip_name==@clip_name')[\"run\"].values[0]\n",
    "        tr_range = get_clipwise_trs(clip_name)\n",
    "\n",
    "    # Assemble full filename\n",
    "    if GSR==0:\n",
    "        f_suffix = \"_shen268_roi_ts.txt\"\n",
    "    elif GSR==1:\n",
    "        f_suffix = \"_shen268_roi_ts_gsr.txt\"\n",
    "    f_name = \"_\" + run_name + f_suffix\n",
    "\n",
    "    # Get final list of subjects (based on who has this run)\n",
    "    good_subs1 = get_subjects(data_dir=data_dir, f_name=f_name, full_subj_list=subj_set1)\n",
    "    good_subs2 = get_subjects(data_dir=data_dir, f_name=f_name, full_subj_list=subj_set2)\n",
    "\n",
    "    # Read in timeseries data\n",
    "    D1 = make_3d_data_mtx(data_dir=data_dir, f_name=f_name, subj_list=good_subs1)\n",
    "    D2 = make_3d_data_mtx(data_dir=data_dir, f_name=f_name, subj_list=good_subs2)\n",
    "\n",
    "    # Make nodewise ISC matrices\n",
    "    ISC1 = make_nodewise_isc_mtx(D1, tr_range)\n",
    "    ISC2 = make_nodewise_isc_mtx(D2, tr_range)\n",
    "\n",
    "    # Get vectors of behavior\n",
    "    behav_vct1 = behav_data.loc[good_subs1, behav_name].values.reshape(-1,1)\n",
    "    behav_vct2 = behav_data.loc[good_subs2, behav_name].values.reshape(-1,1)\n",
    "\n",
    "    # Set up figure and subplots\n",
    "    n_models = len(models)\n",
    "\n",
    "    fig = plt.figure(figsize=(7,5))\n",
    "    fig.suptitle(f\"Behav: {behav_name} / Clip: {clip_name} / GSR: {GSR}\")\n",
    "    gs = mpl.gridspec.GridSpec(2, n_models, figure=fig)\n",
    "\n",
    "    model_results = pd.DataFrame(columns=models)\n",
    "\n",
    "    # Run RSA for desired models\n",
    "    for m,model in enumerate(models):\n",
    "\n",
    "        # Create an axis for the scatterplot for this model\n",
    "        ax = fig.add_subplot(gs[0,m])\n",
    "\n",
    "        # Run model\n",
    "        if model==\"NN\":\n",
    "            result1 = do_rsa(ISC1, get_eucdist_pairwise_behav_vct(behav_vct1), n_perms=n_perms)\n",
    "            result2 = do_rsa(ISC2, get_eucdist_pairwise_behav_vct(behav_vct2), n_perms=n_perms)\n",
    "        elif model==\"AnnaK_high\":\n",
    "            result1 = do_rsa(ISC1, get_annak_pairwise_behav_vct(behav_vct1), n_perms=n_perms)\n",
    "            result2 = do_rsa(ISC2, get_annak_pairwise_behav_vct(behav_vct2), n_perms=n_perms)\n",
    "        elif model==\"AnnaK_low\":\n",
    "            result1 = do_rsa(ISC1, get_annak_pairwise_behav_vct(behav_vct1, lower=True), n_perms=n_perms)\n",
    "            result2 = do_rsa(ISC2, get_annak_pairwise_behav_vct(behav_vct2, lower=True), n_perms=n_perms)\n",
    "        elif model==\"gradient\":   \n",
    "            result1 = do_rsa(ISC1, get_gradient_pairwise_behav_vct(behav_vct1), n_perms=n_perms)\n",
    "            result2 = do_rsa(ISC2, get_gradient_pairwise_behav_vct(behav_vct2), n_perms=n_perms)\n",
    "        else:\n",
    "            raise ValueError('unknown model')\n",
    "        \n",
    "        # Make scatterplot\n",
    "        plot_set1_vs_set2(result1, result2, p_alpha = alpha, sig_color=color_dict[model], ax=ax)\n",
    "        set_aspect_ratio(ax)\n",
    "        ax.set_title(model)\n",
    "\n",
    "        # Get intersection of subj_set1 and subj_set2\n",
    "        surv_nodes = get_intersection(result1, result2, alpha=alpha)\n",
    "        model_results[model] = surv_nodes\n",
    "            \n",
    "    # Make glass brain axis\n",
    "    ax_glassbrain = fig.add_subplot(gs[1,:]) # for glass brain figure\n",
    "\n",
    "    # Color ROIs that were significant in each model separately\n",
    "    display_mode = 'lzr'\n",
    "    bounds = [0.5,1.5]\n",
    "\n",
    "    for model in models:\n",
    "        cmap = mpl.colors.ListedColormap([color_dict[model]])\n",
    "        norm = mpl.colors.BoundaryNorm(bounds, cmap.N)\n",
    "        img = color_rois(model_results[model])\n",
    "        plotting.plot_glass_brain(img, axes=ax_glassbrain, cmap=cmap, norm=norm, display_mode=display_mode)\n",
    "        \n",
    "    # Color ROIs that were significant in both models\n",
    "    cmap = mpl.colors.ListedColormap([color_dict[\"Both {} and {}\".format(models[0], models[1])]])\n",
    "    norm = mpl.colors.BoundaryNorm(bounds, cmap.N)\n",
    "    img_overlap = color_rois(model_results[models[0]] & model_results[models[1]])\n",
    "    plotting.plot_glass_brain(img_overlap, axes=ax_glassbrain, cmap=cmap, norm=norm, display_mode=display_mode)\n",
    "    \n",
    "    # Make legend\n",
    "    patches = [ mpl.patches.Patch(color=color_names[i], label=\"{:s}\".format(legend_handles[i]) ) for i in range(len(legend_handles)) ]\n",
    "    ax_glassbrain.legend(handles=patches)\n",
    "    \n",
    "    return model_results"
   ]
  },
  {
   "cell_type": "markdown",
   "metadata": {},
   "source": [
    "As a first pass, let's see how the NN and AnnaK models compare for looking at how ISC relates to fluid intelligence (PMAT) score. A priori we might expect that subjects who score higher on fluid intelligence look more similar to one another during movie watching, so the AnnaK model would capture this better."
   ]
  },
  {
   "cell_type": "code",
   "execution_count": 41,
   "metadata": {},
   "outputs": [
    {
     "data": {
      "image/png": "[encoded data removed]",
      "text/plain": [
       "<Figure size 504x360 with 6 Axes>"
      ]
     },
     "metadata": {
      "needs_background": "light"
     },
     "output_type": "display_data"
    }
   ],
   "source": [
    "model_results = compare_models(behav_name = \"PMAT24_A_CR\", clip_name = \"MOVIE1_7T_AP\", models = [\"NN\", \"AnnaK_high\"])"
   ]
  },
  {
   "cell_type": "markdown",
   "metadata": {},
   "source": [
    "** wish list for figure: **\n",
    "    - equal xmin/xmax and ymin/ymax for the two scatterplots\n",
    "    - xticklabels (wtf)\n",
    "    - move legend off brain "
   ]
  },
  {
   "cell_type": "markdown",
   "metadata": {},
   "source": [
    "So we see that compared to the NN model, the \"AnnaK\" model yields larger effect sizes that are more consistent across the two cohorts, and that it is more sensitive in that it picks up more nodes (purple nodes are those that were picked up by both models, while red nodes were picked up only by the AnnaK model; no nodes were picked up by only the NN model).\n",
    "\n",
    "How about for a behavior that's not necessarily about cognitive performance (where there is a clear \"better\" and \"worse\" end of the spectrum), but more value-agnostic (where the ends of the spectrum are simply different)? For example, Sadness_Unadj from the NIH Toolbox purports to measure \"poor mood; negative perceptions of self, the world, and the future\". Clearly it's better not to be sad, but as far as the brain is concerned we may not have a strong *a priori* hypothesis about whether this trait will follow more of a NN structure or an AnnaK structure -- since it's equally plausible that sad people will look similar to other sad people as happy people will look more similar to other happy people. When we run it, we see that far less of the brain is sensitive to this measure compared to fluid intelligence, but interestingly, one node in the left TPJ does seem to show a significant NN structure:"
   ]
  },
  {
   "cell_type": "code",
   "execution_count": 42,
   "metadata": {},
   "outputs": [
    {
     "data": {
      "image/png": "[encoded data removed]",
      "text/plain": [
       "<Figure size 504x360 with 6 Axes>"
      ]
     },
     "metadata": {
      "needs_background": "light"
     },
     "output_type": "display_data"
    }
   ],
   "source": [
    "model_results = compare_models(behav_name = \"Sadness_Unadj\", clip_name = \"MOVIE1_7T_AP\", models = [\"NN\", \"AnnaK_high\"])"
   ]
  },
  {
   "cell_type": "markdown",
   "metadata": {},
   "source": [
    "** side note: why the f is the left sagittal view flipped? **"
   ]
  },
  {
   "cell_type": "markdown",
   "metadata": {},
   "source": [
    "What about for traits that are even more value-agnostic, like personality? Would we expect something like extraversion to be more of an NN-type or an AnnaK-type? Or maybe it could be either, depending on the brain region? Let's run our RSA models on the Big Five traits from the NEO Five-Factor Inventory: Agreeableness (A), Extraversion (E), Conscientiousness (C), Openness (O), and Neuroticism (N):"
   ]
  },
  {
   "cell_type": "code",
   "execution_count": null,
   "metadata": {},
   "outputs": [],
   "source": [
    "NEOFAC_traits = [\"NEOFAC_A\", \"NEOFAC_E\", \"NEOFAC_C\", \"NEOFAC_O\", \"NEOFAC_N\"]\n",
    "\n",
    "for trait in NEOFAC_traits:\n",
    "    compare_models(behav_name = trait, clip_name = \"MOVIE1_7T_AP\", models = [\"NN\", \"AnnaK_high\"])"
   ]
  },
  {
   "cell_type": "markdown",
   "metadata": {},
   "source": [
    "These results are largely underwhelming -- a few nodes show up here and there, but overall the results are weak and not very replicable across the two cohorts.\n",
    "\n",
    "**BUT!** let's not forget that these 5 traits are just summary scores. Each subject filled out a 60-item questionnnaire. What if we formulated the NN model as Euclidean distance not between the summary scores, but between the entire vector of itemwise responses?"
   ]
  },
  {
   "cell_type": "code",
   "execution_count": null,
   "metadata": {},
   "outputs": [],
   "source": [
    "behav_regex = \"NEORAW_\" # each individual item starts with this prefix\n",
    "likert_map = {\"SD\": 1, \"D\": 2, \"N\": 3, \"A\": 4, \"SA\": 5}\n",
    "\n",
    "behav_vct1 = get_behav_from_regex(behav_data=behav_data.loc[good_subs1, :], behav_regex=behav_regex, likert_map=likert_map)\n",
    "behav_vct2 = get_behav_from_regex(behav_data=behav_data.loc[good_subs2, :], behav_regex=behav_regex, likert_map=likert_map)\n",
    "result1_itemwise = do_rsa(ISC1, get_eucdist_pairwise_behav_vct(behav_vct1))\n",
    "result2_itemwise = do_rsa(ISC2, get_eucdist_pairwise_behav_vct(behav_vct2))\n",
    "\n",
    "# Set up plot\n",
    "fig, (ax1, ax2) = plt.subplots(1,2, figsize=(10,5), gridspec_kw={'width_ratios': [1, 3]})\n",
    "\n",
    "# Make scatterplot\n",
    "plot_set1_vs_set2(result1_itemwise, result2_itemwise, sig_color=\"tab:green\", ax=ax1)\n",
    "set_aspect_ratio(ax1)\n",
    "ax1.set_title('NN: Itemwise')\n",
    "\n",
    "# Make glass brain plot\n",
    "# make color map\n",
    "bounds = [0.5,1.5]\n",
    "cmap = mpl.colors.ListedColormap([\"tab:green\"])\n",
    "norm = mpl.colors.BoundaryNorm(bounds, cmap.N)\n",
    "        \n",
    "img = color_rois(get_intersection(result1_itemwise, result2_itemwise))\n",
    "plotting.plot_glass_brain(img, cmap=cmap, norm=norm, axes=ax2)\n",
    "\n",
    "plt.tight_layout()"
   ]
  },
  {
   "cell_type": "markdown",
   "metadata": {},
   "source": [
    "Now we see that pairs of subjects that give similar item-level responses to the questionnaire look more similar during movie watching in several brain regions (especially in the cerebellum), regardless of their overall levels of each of the five summary dimensions. Interesting! \n"
   ]
  },
  {
   "cell_type": "code",
   "execution_count": null,
   "metadata": {},
   "outputs": [],
   "source": []
  }
 ],
 "metadata": {
  "kernelspec": {
   "display_name": "Environment (conda_hcp7t)",
   "language": "python",
   "name": "conda_hcp7t"
  },
  "language_info": {
   "codemirror_mode": {
    "name": "ipython",
    "version": 3
   },
   "file_extension": ".py",
   "mimetype": "text/x-python",
   "name": "python",
   "nbconvert_exporter": "python",
   "pygments_lexer": "ipython3",
   "version": "3.6.7"
  }
 },
 "nbformat": 4,
 "nbformat_minor": 2
}
